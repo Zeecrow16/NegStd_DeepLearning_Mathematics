{
  "nbformat": 4,
  "nbformat_minor": 0,
  "metadata": {
    "colab": {
      "provenance": [],
      "authorship_tag": "ABX9TyO6ATrkTrJ2Uv8Spp6beFcr",
      "include_colab_link": true
    },
    "kernelspec": {
      "name": "python3",
      "display_name": "Python 3"
    },
    "language_info": {
      "name": "python"
    }
  },
  "cells": [
    {
      "cell_type": "markdown",
      "metadata": {
        "id": "view-in-github",
        "colab_type": "text"
      },
      "source": [
        "<a href=\"https://colab.research.google.com/github/Zeecrow16/NegStd_DeepLearning_Mathematics/blob/main/Final_Project_Iris_Classification.ipynb\" target=\"_parent\"><img src=\"https://colab.research.google.com/assets/colab-badge.svg\" alt=\"Open In Colab\"/></a>"
      ]
    },
    {
      "cell_type": "code",
      "execution_count": 1,
      "metadata": {
        "id": "kJFec889hGx5"
      },
      "outputs": [],
      "source": [
        "import numpy as np\n",
        "import matplotlib.pyplot as plt\n",
        "from sklearn.datasets import load_iris\n",
        "from sklearn.model_selection import train_test_split\n",
        "from scipy import stats\n",
        "import seaborn as sns\n",
        "import pandas as pd\n",
        "from scipy.stats import ttest_ind"
      ]
    },
    {
      "cell_type": "code",
      "source": [
        "#Step 1: Load the Iris dataset"
      ],
      "metadata": {
        "id": "qzf4mVWonPdr"
      },
      "execution_count": 2,
      "outputs": []
    },
    {
      "cell_type": "code",
      "source": [
        "iris = load_iris()\n",
        "X = iris.data.astype(np.float32)\n",
        "y = iris.target\n",
        "\n",
        "print(f\"Features shape: {X.shape}, Labels shape: {y.shape}\")\n",
        "print(f\"Data type of features: {X.dtype}, Data type of labels: {y.dtype}\\n\")"
      ],
      "metadata": {
        "colab": {
          "base_uri": "https://localhost:8080/"
        },
        "id": "gEZDESQemqZe",
        "outputId": "c12ac70c-4d99-44ad-fce3-38def3113f6c"
      },
      "execution_count": 3,
      "outputs": [
        {
          "output_type": "stream",
          "name": "stdout",
          "text": [
            "Features shape: (150, 4), Labels shape: (150,)\n",
            "Data type of features: float32, Data type of labels: int64\n",
            "\n"
          ]
        }
      ]
    },
    {
      "cell_type": "code",
      "source": [
        "#Step 2: Data Inspection"
      ],
      "metadata": {
        "id": "MHJudlB9nZFn"
      },
      "execution_count": null,
      "outputs": []
    },
    {
      "cell_type": "code",
      "source": [
        "# Feature names and classes\n",
        "print(\"Feature names:\", iris.feature_names)\n",
        "print(\"Target classes:\", iris.target_names)\n",
        "print(\"First 5 samples:\\n\", X[:5])\n",
        "print(\"First 5 labels:\", y[:5])"
      ],
      "metadata": {
        "colab": {
          "base_uri": "https://localhost:8080/"
        },
        "id": "HwIa5AkennDV",
        "outputId": "8790ac7f-9283-40c7-923e-639d7a8eb85b"
      },
      "execution_count": 4,
      "outputs": [
        {
          "output_type": "stream",
          "name": "stdout",
          "text": [
            "Feature names: ['sepal length (cm)', 'sepal width (cm)', 'petal length (cm)', 'petal width (cm)']\n",
            "Target classes: ['setosa' 'versicolor' 'virginica']\n",
            "First 5 samples:\n",
            " [[5.1 3.5 1.4 0.2]\n",
            " [4.9 3.  1.4 0.2]\n",
            " [4.7 3.2 1.3 0.2]\n",
            " [4.6 3.1 1.5 0.2]\n",
            " [5.  3.6 1.4 0.2]]\n",
            "First 5 labels: [0 0 0 0 0]\n"
          ]
        }
      ]
    },
    {
      "cell_type": "code",
      "source": [
        "#Step 3: Random Reproducibility"
      ],
      "metadata": {
        "id": "V8Rumj9fwd9W"
      },
      "execution_count": null,
      "outputs": []
    },
    {
      "cell_type": "code",
      "source": [
        "print(\"Original labels (first 5):\", y[:5])\n",
        "\n",
        "# Set a fixed seed and shuffle\n",
        "np.random.seed(16)\n",
        "indices1 = np.arange(len(X))\n",
        "np.random.shuffle(indices1)\n",
        "\n",
        "X1 = X[indices1]\n",
        "y1 = y[indices1]\n",
        "\n",
        "print(\"Shuffled labels with seed 16 (first 5):\", y1[:5])\n",
        "\n",
        "# Set the same seed and shuffle again\n",
        "np.random.seed(16)\n",
        "indices2 = np.arange(len(X))\n",
        "np.random.shuffle(indices2)\n",
        "\n",
        "X2 = X[indices2]\n",
        "y2 = y[indices2]\n",
        "\n",
        "print(\"Shuffled labels again with seed 16 (first 5):\", y2[:5])\n",
        "\n",
        "# Check if both shuffles are identical\n",
        "print(\"Shuffles are identical:\", np.array_equal(y1, y2))"
      ],
      "metadata": {
        "colab": {
          "base_uri": "https://localhost:8080/"
        },
        "id": "rC7G6o7nwhyL",
        "outputId": "403e4e95-edd5-4cd0-9a9a-7e43c2d7b572"
      },
      "execution_count": 5,
      "outputs": [
        {
          "output_type": "stream",
          "name": "stdout",
          "text": [
            "Original labels (first 5): [0 0 0 0 0]\n",
            "Shuffled labels with seed 16 (first 5): [1 0 1 1 1]\n",
            "Shuffled labels again with seed 16 (first 5): [1 0 1 1 1]\n",
            "Shuffles are identical: True\n"
          ]
        }
      ]
    },
    {
      "cell_type": "code",
      "source": [
        "#Step 4: Split into Train and Test"
      ],
      "metadata": {
        "id": "2lV0zQ31qNwx"
      },
      "execution_count": null,
      "outputs": []
    },
    {
      "cell_type": "code",
      "source": [
        "X_train, X_test, y_train, y_test = train_test_split(X, y, test_size=0.2, random_state=42)"
      ],
      "metadata": {
        "id": "vslkyyMeqQj3"
      },
      "execution_count": 6,
      "outputs": []
    },
    {
      "cell_type": "code",
      "source": [
        "#Step 5: Mean and Variance"
      ],
      "metadata": {
        "id": "rlAjxGkhx6mf"
      },
      "execution_count": null,
      "outputs": []
    },
    {
      "cell_type": "code",
      "source": [
        "sample_mean = np.mean(X_train[:5], axis=0)\n",
        "population_mean = np.mean(X_train, axis=0)\n",
        "population_variance = np.var(X_train, axis=0)\n",
        "\n",
        "print('Sample mean: ', sample_mean)\n",
        "print('Population mean: ', population_mean)\n",
        "print('Population variance: ', population_variance)"
      ],
      "metadata": {
        "colab": {
          "base_uri": "https://localhost:8080/"
        },
        "id": "LmL2PR07ygBh",
        "outputId": "47f45692-2aed-4a0d-f396-6084bb32f2d0"
      },
      "execution_count": 7,
      "outputs": [
        {
          "output_type": "stream",
          "name": "stdout",
          "text": [
            "Sample mean:  [5.24       3.5400002  1.96       0.48000002]\n",
            "Population mean:  [5.8091674 3.0616658 3.7266667 1.1833336]\n",
            "Population variance:  [0.6729992  0.20003052 3.0451217  0.56122214]\n"
          ]
        }
      ]
    },
    {
      "cell_type": "code",
      "source": [
        "feature_names = iris.feature_names\n",
        "\n",
        "# Plotting mean for sample and population mean for comparison\n",
        "\n",
        "x = np.arange(len(feature_names))\n",
        "width = 0.25\n",
        "\n",
        "fig, ax1 = plt.subplots(figsize=(10, 5))\n",
        "\n",
        "ax1.bar(x - width/2, sample_mean, width, label='Sample Mean (First 5)', color='skyblue')\n",
        "ax1.bar(x + width/2, population_mean, width, label='Population Mean', color='steelblue')\n",
        "\n",
        "ax1.set_ylabel('Value')\n",
        "ax1.set_title('Sample vs Population Mean of Iris Features')\n",
        "ax1.set_xticks(x)\n",
        "ax1.set_xticklabels(feature_names, rotation=45)\n",
        "ax1.legend()\n",
        "\n",
        "plt.tight_layout()\n",
        "plt.show()"
      ],
      "metadata": {
        "colab": {
          "base_uri": "https://localhost:8080/",
          "height": 507
        },
        "id": "Tz7ZTQTGtC5V",
        "outputId": "ae0ea5b1-0a68-46ad-a2cb-3c18f52581db"
      },
      "execution_count": 8,
      "outputs": [
        {
          "output_type": "display_data",
          "data": {
            "text/plain": [
              "<Figure size 1000x500 with 1 Axes>"
            ],
            "image/png": "[encoded data removed]"
          },
          "metadata": {}
        }
      ]
    },
    {
      "cell_type": "code",
      "source": [
        "#Step 6: Visualise Matrix and Transpose"
      ],
      "metadata": {
        "id": "CcR3NAUZyhl4"
      },
      "execution_count": null,
      "outputs": []
    },
    {
      "cell_type": "code",
      "source": [
        "sample = X[0].reshape(1, -1) # shape (1, 4) - row vector\n",
        "print(\"Original vector (row):\", sample)\n",
        "print(\"Shape:\", sample.shape)"
      ],
      "metadata": {
        "colab": {
          "base_uri": "https://localhost:8080/"
        },
        "id": "4GWtiNmyymjd",
        "outputId": "9a928d25-cc79-4e61-98d4-506e60e53ba6"
      },
      "execution_count": 9,
      "outputs": [
        {
          "output_type": "stream",
          "name": "stdout",
          "text": [
            "Original vector (row): [[5.1 3.5 1.4 0.2]]\n",
            "Shape: (1, 4)\n"
          ]
        }
      ]
    },
    {
      "cell_type": "code",
      "source": [
        "sample_T = sample.T           # transpose to column vector (4, 1)\n",
        "print(\"Transposed vector (column):\", sample_T)\n",
        "print(\"Shape:\", sample_T.shape, \"\\n\")"
      ],
      "metadata": {
        "colab": {
          "base_uri": "https://localhost:8080/"
        },
        "id": "RH7D1RqiyrKA",
        "outputId": "b75bc589-d2d0-433e-ba4b-6bfa8bc1b451"
      },
      "execution_count": 10,
      "outputs": [
        {
          "output_type": "stream",
          "name": "stdout",
          "text": [
            "Transposed vector (column): [[5.1]\n",
            " [3.5]\n",
            " [1.4]\n",
            " [0.2]]\n",
            "Shape: (4, 1) \n",
            "\n"
          ]
        }
      ]
    },
    {
      "cell_type": "code",
      "source": [
        "#Step 7: The Dot Product"
      ],
      "metadata": {
        "id": "HlnOYmn0ytYM"
      },
      "execution_count": null,
      "outputs": []
    },
    {
      "cell_type": "code",
      "source": [
        "# Random weights for 3 classes (features x classes)\n",
        "W = np.random.randn(4, 3) * 0.001  # W originally * 0.01 but was adjusted to calculate softmax more effectively\n",
        "b = np.zeros(3)\n",
        "\n",
        "# Compute logits:\n",
        "def compute_logits(sample, W, b):\n",
        "  logits = np.dot(sample, W) + b           # shape (1, 3)\n",
        "  logits = logits.flatten()                # make shape (3,) to avoid IndexError\n",
        "  print(\"Logits:\", logits, \"\\n\")\n",
        "  return logits"
      ],
      "metadata": {
        "id": "4-U4ZQQayytE"
      },
      "execution_count": 24,
      "outputs": []
    },
    {
      "cell_type": "code",
      "source": [
        "#Step 8: SoftMax"
      ],
      "metadata": {
        "id": "hvZ_TxMTy0H7"
      },
      "execution_count": null,
      "outputs": []
    },
    {
      "cell_type": "code",
      "source": [
        "def softmax(logits):\n",
        "  num = np.exp(logits)\n",
        "  demominator = np.sum(np.exp(logits))\n",
        "  sigma = num / demominator\n",
        "\n",
        "  print(sigma)\n",
        "  print(np.sum(sigma))\n",
        "\n",
        "  return sigma"
      ],
      "metadata": {
        "id": "DhGUTsxWy9ES"
      },
      "execution_count": 25,
      "outputs": []
    },
    {
      "cell_type": "code",
      "source": [
        "  #plotting the softmax\n",
        "  plt.plot(logits, sigma, 'ko')\n",
        "  plt.xlabel('Original number (z)')\n",
        "  plt.ylabel('Softmax $\\sigma$')\n",
        "  plt.title('$\\sum\\sigma$ = %g' %np.sum(sigma))\n",
        "  plt.show()"
      ],
      "metadata": {
        "colab": {
          "base_uri": "https://localhost:8080/",
          "height": 477
        },
        "id": "4kd0DhzlrbtN",
        "outputId": "f46c5a1e-21ac-43fc-8964-a6605bbf876b"
      },
      "execution_count": null,
      "outputs": [
        {
          "output_type": "display_data",
          "data": {
            "text/plain": [
              "<Figure size 640x480 with 1 Axes>"
            ],
            "image/png": "[encoded data removed]"
          },
          "metadata": {}
        }
      ]
    },
    {
      "cell_type": "code",
      "source": [
        "#Step 9: Find the True Class (prep for cross entropy values)"
      ],
      "metadata": {
        "id": "RnlW41WC85S7"
      },
      "execution_count": null,
      "outputs": []
    },
    {
      "cell_type": "code",
      "source": [
        "#true index for first sample\n",
        "true_class = y[0]"
      ],
      "metadata": {
        "id": "V4Y4PWgczBgV"
      },
      "execution_count": 31,
      "outputs": []
    },
    {
      "cell_type": "code",
      "source": [
        "num_classes = 3\n",
        "p = np.zeros(num_classes)\n",
        "p[true_class] = 1"
      ],
      "metadata": {
        "id": "kLaHVj92zG2f"
      },
      "execution_count": 32,
      "outputs": []
    },
    {
      "cell_type": "code",
      "source": [
        "#Step 10: Prediction (before training) + ArgMax"
      ],
      "metadata": {
        "id": "fdkGBWZQy-2O"
      },
      "execution_count": null,
      "outputs": []
    },
    {
      "cell_type": "code",
      "source": [
        "def predict(probs):\n",
        "    pred_class = np.argmax(probs)\n",
        "    confidence = np.max(probs)\n",
        "    return pred_class, confidence"
      ],
      "metadata": {
        "id": "ss-1KkrYzEMS"
      },
      "execution_count": 33,
      "outputs": []
    },
    {
      "cell_type": "code",
      "source": [
        "#Step 11: Cross Entropy"
      ],
      "metadata": {
        "id": "P94tB6OMzFQ9"
      },
      "execution_count": null,
      "outputs": []
    },
    {
      "cell_type": "code",
      "source": [
        "def cross_entropy(probs, y_true):\n",
        "  entropy = 0\n",
        "  for i in range(num_classes):\n",
        "      if p[i] != 0:\n",
        "          entropy -= p[i] * np.log(probs[i])\n",
        "\n",
        "  print(f\"Cross-entropy loss: {entropy:.4f}\")\n",
        "\n",
        "  return entropy"
      ],
      "metadata": {
        "id": "fP6uhONSzJ2N"
      },
      "execution_count": 34,
      "outputs": []
    },
    {
      "cell_type": "code",
      "source": [
        "#Step 12: Model Training"
      ],
      "metadata": {
        "id": "aMVszZVjr3TC"
      },
      "execution_count": null,
      "outputs": []
    },
    {
      "cell_type": "code",
      "source": [
        "def train_model(X, y, W, b, lr=0.1, epochs=20):\n",
        "    loss_history = []\n",
        "    num_classes = b.shape[0]\n",
        "\n",
        "    for epoch in range(epochs):\n",
        "        total_loss = 0\n",
        "\n",
        "        for i in range(X.shape[0]):\n",
        "            x_i = X[i].reshape(1, -1)              # shape: (1, 4)\n",
        "            y_i = y[i]\n",
        "\n",
        "            # Forward pass\n",
        "            logits = np.dot(x_i, W) + b            # shape: (1, 3)\n",
        "            logits = logits.flatten()              # shape: (3,)\n",
        "            probs = softmax(logits)                # your softmax\n",
        "            loss = cross_entropy(probs, y_i)       # your entropy\n",
        "            total_loss += loss\n",
        "\n",
        "            # Backward pass\n",
        "            grad = probs.copy()\n",
        "            grad[y_i] -= 1                         # gradient of cross-entropy\n",
        "            grad = grad.reshape(1, -1)             # shape: (1, 3)\n",
        "            dW = np.dot(x_i.T, grad)               # shape: (4, 3)\n",
        "            db = grad.flatten()                    # shape: (3,)\n",
        "\n",
        "            # Update weights\n",
        "            W -= lr * dW\n",
        "            b -= lr * db\n",
        "\n",
        "        avg_loss = total_loss / X.shape[0]\n",
        "        loss_history.append(avg_loss)\n",
        "\n",
        "    return W, b, loss_history\n"
      ],
      "metadata": {
        "id": "DP24O3_Hr5Xx"
      },
      "execution_count": 35,
      "outputs": []
    },
    {
      "cell_type": "code",
      "source": [
        "W_trained, b_trained, loss_history = train_model(X_train, y_train, W, b)"
      ],
      "metadata": {
        "id": "ysgxq-ex0AAJ"
      },
      "execution_count": null,
      "outputs": []
    },
    {
      "cell_type": "code",
      "source": [
        "#Step 13 : Evaluate model performance"
      ],
      "metadata": {
        "id": "aJuIzZIq7PKf"
      },
      "execution_count": null,
      "outputs": []
    },
    {
      "cell_type": "code",
      "source": [
        "def evaluate_accuracy(X_test, y_test, W, b):\n",
        "    correct = 0\n",
        "    for i in range(len(X_test)):\n",
        "        logits = np.dot(X_test[i], W) + b\n",
        "        probs = softmax(logits)\n",
        "        pred_class, _ = predict(probs)\n",
        "        if pred_class == y_test[i]:\n",
        "            correct += 1\n",
        "    return correct / len(X_test)"
      ],
      "metadata": {
        "id": "y_Tk30qH7RPY"
      },
      "execution_count": 37,
      "outputs": []
    },
    {
      "cell_type": "code",
      "source": [
        "#Step 14: Model Predictions (after training)"
      ],
      "metadata": {
        "id": "o9qOgSlE9nsA"
      },
      "execution_count": null,
      "outputs": []
    },
    {
      "cell_type": "code",
      "source": [
        "def print_predictions(X_test, y_test, W, b, n=10):\n",
        "    print(\"\\nSample predictions (Predicted | Confidence | Actual):\")\n",
        "    for i in range(n):\n",
        "        logits = np.dot(X_test[i], W) + b\n",
        "        probs = softmax(logits)\n",
        "        pred_class, confidence = predict(probs)\n",
        "        print(f\"{pred_class:9d} | {confidence:.4f}     | {y_test[i]:6d}\")"
      ],
      "metadata": {
        "id": "f9MYNiSq7jy9"
      },
      "execution_count": 38,
      "outputs": []
    },
    {
      "cell_type": "code",
      "source": [
        "print_predictions(X_test, y_test, W_trained, b_trained)"
      ],
      "metadata": {
        "colab": {
          "base_uri": "https://localhost:8080/"
        },
        "id": "bakjKp6q7ogE",
        "outputId": "5d066afb-15bf-417d-ccde-8a2fc5a8be32"
      },
      "execution_count": 39,
      "outputs": [
        {
          "output_type": "stream",
          "name": "stdout",
          "text": [
            "\n",
            "Sample predictions (Predicted | Confidence | Actual):\n",
            "[5.33100879e-04 9.94378220e-01 5.08867909e-03]\n",
            "0.9999999999999999\n",
            "        1 | 0.9944     |      1\n",
            "[9.94872683e-01 5.12731675e-03 3.05095413e-24]\n",
            "1.0\n",
            "        0 | 0.9949     |      0\n",
            "[4.40717462e-15 1.38494331e-08 9.99999986e-01]\n",
            "1.0\n",
            "        2 | 1.0000     |      2\n",
            "[0.00223505 0.98213098 0.01563397]\n",
            "1.0\n",
            "        1 | 0.9821     |      1\n",
            "[3.74937174e-04 9.99119712e-01 5.05351118e-04]\n",
            "1.0000000000000002\n",
            "        1 | 0.9991     |      1\n",
            "[9.91463186e-01 8.53681444e-03 1.57301989e-22]\n",
            "1.0\n",
            "        0 | 0.9915     |      0\n",
            "[4.20706747e-02 9.57926319e-01 3.00583495e-06]\n",
            "1.0\n",
            "        1 | 0.9579     |      1\n",
            "[1.04505823e-04 9.00024650e-02 9.09893029e-01]\n",
            "1.0\n",
            "        2 | 0.9099     |      2\n",
            "[1.48089945e-04 8.56596164e-01 1.43255746e-01]\n",
            "1.0\n",
            "        1 | 0.8566     |      1\n",
            "[6.31552239e-03 9.93666574e-01 1.79037907e-05]\n",
            "1.0\n",
            "        1 | 0.9937     |      1\n"
          ]
        }
      ]
    },
    {
      "cell_type": "code",
      "source": [
        "#Acuracy results:"
      ],
      "metadata": {
        "id": "Bfy4-5Z_Ld8f"
      },
      "execution_count": null,
      "outputs": []
    },
    {
      "cell_type": "code",
      "source": [
        "acc = evaluate_accuracy(X_test, y_test, W, b)\n",
        "print(f\"Accuracy on test set: {acc*100:.2f}%\")"
      ],
      "metadata": {
        "colab": {
          "base_uri": "https://localhost:8080/"
        },
        "id": "66-Yn7X--eWQ",
        "outputId": "834ab330-a719-4aa6-ffe0-91667907d675"
      },
      "execution_count": 40,
      "outputs": [
        {
          "output_type": "stream",
          "name": "stdout",
          "text": [
            "[5.33100879e-04 9.94378220e-01 5.08867909e-03]\n",
            "0.9999999999999999\n",
            "[9.94872683e-01 5.12731675e-03 3.05095413e-24]\n",
            "1.0\n",
            "[4.40717462e-15 1.38494331e-08 9.99999986e-01]\n",
            "1.0\n",
            "[0.00223505 0.98213098 0.01563397]\n",
            "1.0\n",
            "[3.74937174e-04 9.99119712e-01 5.05351118e-04]\n",
            "1.0000000000000002\n",
            "[9.91463186e-01 8.53681444e-03 1.57301989e-22]\n",
            "1.0\n",
            "[4.20706747e-02 9.57926319e-01 3.00583495e-06]\n",
            "1.0\n",
            "[1.04505823e-04 9.00024650e-02 9.09893029e-01]\n",
            "1.0\n",
            "[1.48089945e-04 8.56596164e-01 1.43255746e-01]\n",
            "1.0\n",
            "[6.31552239e-03 9.93666574e-01 1.79037907e-05]\n",
            "1.0\n",
            "[1.88930135e-04 1.41831643e-01 8.57979426e-01]\n",
            "1.0\n",
            "[9.71260255e-01 2.87397448e-02 8.30105292e-21]\n",
            "1.0\n",
            "[9.95954298e-01 4.04570239e-03 3.06168865e-25]\n",
            "1.0\n",
            "[9.70696748e-01 2.93032521e-02 6.49657725e-21]\n",
            "1.0\n",
            "[9.97921569e-01 2.07843137e-03 1.51950618e-23]\n",
            "1.0\n",
            "[0.00482739 0.99127996 0.00389265]\n",
            "0.9999999999999998\n",
            "[3.16782476e-10 4.08842345e-06 9.99995911e-01]\n",
            "1.0\n",
            "[2.95456423e-03 9.96952471e-01 9.29646991e-05]\n",
            "1.0\n",
            "[0.00134057 0.96302025 0.03563919]\n",
            "1.0\n",
            "[4.05323337e-10 5.21970123e-06 9.99994780e-01]\n",
            "0.9999999999999999\n",
            "[9.76281725e-01 2.37182752e-02 1.13514668e-19]\n",
            "1.0\n",
            "[1.59646511e-04 1.36749594e-01 8.63090760e-01]\n",
            "0.9999999999999999\n",
            "[9.89711901e-01 1.02880994e-02 1.21348474e-20]\n",
            "1.0\n",
            "[9.89849981e-10 1.44266228e-05 9.99985572e-01]\n",
            "1.0\n",
            "[1.49481630e-05 1.84463556e-01 8.15521496e-01]\n",
            "1.0\n",
            "[2.58256742e-06 4.14027513e-03 9.95857142e-01]\n",
            "1.0\n",
            "[5.07231702e-10 6.91729691e-05 9.99930827e-01]\n",
            "1.0\n",
            "[1.79948130e-09 1.57941246e-05 9.99984204e-01]\n",
            "0.9999999999999999\n",
            "[9.77419888e-01 2.25801115e-02 4.98220053e-20]\n",
            "1.0\n",
            "[9.65185771e-01 3.48142290e-02 1.34198919e-19]\n",
            "1.0\n",
            "Accuracy on test set: 100.00%\n"
          ]
        }
      ]
    },
    {
      "cell_type": "code",
      "source": [
        "#Accuracy output:\n",
        "\n",
        "#Accuracy on test set: 100.00%"
      ],
      "metadata": {
        "id": "quYd1W0jtPOx"
      },
      "execution_count": null,
      "outputs": []
    },
    {
      "cell_type": "code",
      "source": [
        "#Step 15: Gradient Descent (Derivatives)"
      ],
      "metadata": {
        "id": "7RCKbmsizYN8"
      },
      "execution_count": null,
      "outputs": []
    },
    {
      "cell_type": "code",
      "source": [
        "# Simple quadratic loss: L(w) = (w - 3)^2\n",
        "def loss_fn(w):\n",
        "    return (w - 3)**2\n",
        "\n",
        "# Derivative: L'(w) = 2(w - 3)\n",
        "def grad_fn(w):\n",
        "    return 2 * (w - 3)\n",
        "\n",
        "w = 0  # initial weight\n",
        "lr = 0.1  # learning rate\n",
        "iterations = 10\n",
        "w_values = [w]\n",
        "\n",
        "for i in range(iterations):\n",
        "    grad = grad_fn(w)\n",
        "    w -= lr * grad\n",
        "    w_values.append(w)\n",
        "    print(f\"Iteration {i+1}: w = {w:.4f}, loss = {loss_fn(w):.4f}\")"
      ],
      "metadata": {
        "colab": {
          "base_uri": "https://localhost:8080/"
        },
        "id": "mPIMuMaozbfv",
        "outputId": "f9a082e3-2126-42cd-a7b2-73eb60c43101"
      },
      "execution_count": 41,
      "outputs": [
        {
          "output_type": "stream",
          "name": "stdout",
          "text": [
            "Iteration 1: w = 0.6000, loss = 5.7600\n",
            "Iteration 2: w = 1.0800, loss = 3.6864\n",
            "Iteration 3: w = 1.4640, loss = 2.3593\n",
            "Iteration 4: w = 1.7712, loss = 1.5099\n",
            "Iteration 5: w = 2.0170, loss = 0.9664\n",
            "Iteration 6: w = 2.2136, loss = 0.6185\n",
            "Iteration 7: w = 2.3709, loss = 0.3958\n",
            "Iteration 8: w = 2.4967, loss = 0.2533\n",
            "Iteration 9: w = 2.5973, loss = 0.1621\n",
            "Iteration 10: w = 2.6779, loss = 0.1038\n"
          ]
        }
      ]
    },
    {
      "cell_type": "code",
      "source": [
        "ws = np.linspace(-1, 5, 100)\n",
        "losses = loss_fn(ws)\n",
        "\n",
        "plt.figure(figsize=(8,5))\n",
        "plt.plot(ws, losses, label=\"Loss function L(w)\")\n",
        "plt.scatter(w_values, loss_fn(np.array(w_values)), color='red', label='Gradient steps')\n",
        "plt.plot(w_values, loss_fn(np.array(w_values)), color='red', linestyle='--')\n",
        "plt.xlabel(\"Weight w\")\n",
        "plt.ylabel(\"Loss\")\n",
        "plt.title(\"Gradient Descent on Simple Loss Function\")\n",
        "plt.legend()\n",
        "plt.grid(True)\n",
        "plt.show()"
      ],
      "metadata": {
        "colab": {
          "base_uri": "https://localhost:8080/",
          "height": 487
        },
        "id": "hZtmflqCzdDW",
        "outputId": "dbc4a83b-4c16-43aa-e445-f83c71a6033b"
      },
      "execution_count": 42,
      "outputs": [
        {
          "output_type": "display_data",
          "data": {
            "text/plain": [
              "<Figure size 800x500 with 1 Axes>"
            ],
            "image/png": "[encoded data removed]"
          },
          "metadata": {}
        }
      ]
    },
    {
      "cell_type": "code",
      "source": [
        "#Step 16: T Test"
      ],
      "metadata": {
        "id": "ZHO7i3qG45wu"
      },
      "execution_count": null,
      "outputs": []
    },
    {
      "cell_type": "code",
      "source": [
        "#Evaluate Model\n",
        "def evaluate_model(X, y, W, b):\n",
        "    total_loss = 0\n",
        "    for i in range(X.shape[0]):\n",
        "        x_i = X[i].reshape(1, -1)\n",
        "        y_i = y[i]\n",
        "        logits = np.dot(x_i, W) + b\n",
        "        logits = logits.flatten()\n",
        "        probs = softmax(logits)\n",
        "        total_loss += cross_entropy(probs, y_i)\n",
        "    return total_loss / X.shape[0]"
      ],
      "metadata": {
        "id": "SaR-VXJx48Jg"
      },
      "execution_count": 43,
      "outputs": []
    },
    {
      "cell_type": "code",
      "source": [
        "def run_multiple_training_runs(X_train, y_train, X_val, y_val, lr, epochs=20, runs=10):\n",
        "    val_losses = []\n",
        "    for _ in range(runs):\n",
        "        # Reinitialise weights and biases for each run\n",
        "        W_init = np.random.randn(4, 3) * 0.001\n",
        "        b_init = np.zeros(3)\n",
        "\n",
        "        W_trained, b_trained, _ = train_model(X_train, y_train, W_init, b_init, lr=lr, epochs=epochs)\n",
        "        val_loss = evaluate_model(X_val, y_val, W_trained, b_trained)\n",
        "        val_losses.append(val_loss)\n",
        "    return val_losses"
      ],
      "metadata": {
        "id": "Wt1uLqAt5CbC"
      },
      "execution_count": 44,
      "outputs": []
    },
    {
      "cell_type": "code",
      "source": [
        "# omparing lr=0.1 and lr=0.05\n",
        "val_losses_lr_1 = run_multiple_training_runs(X_train, y_train, X_test, y_test, lr=0.1)\n",
        "val_losses_lr_2 = run_multiple_training_runs(X_train, y_train, X_test, y_test, lr=0.05)\n",
        "\n",
        "stat, p_value = ttest_ind(val_losses_lr_1, val_losses_lr_2)\n",
        "print(f\"T-test statistic: {stat:.4f}, p-value: {p_value:.4f}\")\n",
        "\n",
        "if p_value < 0.05:\n",
        "    print(\"Significant difference between learning rates\")\n",
        "else:\n",
        "    print(\"No significant difference detected\")"
      ],
      "metadata": {
        "id": "MEU2_2ZD5DYZ"
      },
      "execution_count": null,
      "outputs": []
    },
    {
      "cell_type": "code",
      "source": [
        "#output:\n",
        "# T-test statistic: 23363.5213, p-value: 0.0000\n",
        "# Significant difference between learning rates"
      ],
      "metadata": {
        "id": "Fia4nic8emHC"
      },
      "execution_count": null,
      "outputs": []
    },
    {
      "cell_type": "markdown",
      "source": [],
      "metadata": {
        "id": "V1WpwKQ945cu"
      }
    }
  ]
}